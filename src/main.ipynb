{
 "cells": [
  {
   "cell_type": "code",
   "execution_count": 1,
   "id": "cdf1df8a",
   "metadata": {},
   "outputs": [
    {
     "name": "stdout",
     "output_type": "stream",
     "text": [
      "Using device: cpu\n"
     ]
    },
    {
     "name": "stderr",
     "output_type": "stream",
     "text": [
      "100%|██████████| 9.91M/9.91M [00:20<00:00, 481kB/s]\n",
      "100%|██████████| 28.9k/28.9k [00:00<00:00, 147kB/s]\n",
      "100%|██████████| 1.65M/1.65M [00:02<00:00, 794kB/s] \n",
      "100%|██████████| 4.54k/4.54k [00:00<00:00, 4.55MB/s]\n"
     ]
    },
    {
     "name": "stdout",
     "output_type": "stream",
     "text": [
      "Train dataset size: 60000\n",
      "Test dataset size: 10000\n",
      "==================================================\n",
      "1. 선생 모델 학습\n",
      "==================================================\n"
     ]
    },
    {
     "name": "stderr",
     "output_type": "stream",
     "text": [
      "Epoch 1/10: 100%|██████████| 235/235 [00:10<00:00, 21.37it/s, Loss=0.2897, Acc=91.18%]\n"
     ]
    },
    {
     "name": "stdout",
     "output_type": "stream",
     "text": [
      "Epoch 1: Train Loss: 0.2897, Train Acc: 91.18%, Val Loss: 0.1283, Val Acc: 95.91%\n"
     ]
    },
    {
     "name": "stderr",
     "output_type": "stream",
     "text": [
      "Epoch 2/10: 100%|██████████| 235/235 [00:10<00:00, 21.60it/s, Loss=0.1416, Acc=95.66%]\n"
     ]
    },
    {
     "name": "stdout",
     "output_type": "stream",
     "text": [
      "Epoch 2: Train Loss: 0.1416, Train Acc: 95.66%, Val Loss: 0.0819, Val Acc: 97.27%\n"
     ]
    },
    {
     "name": "stderr",
     "output_type": "stream",
     "text": [
      "Epoch 3/10: 100%|██████████| 235/235 [00:10<00:00, 21.58it/s, Loss=0.1126, Acc=96.43%]\n"
     ]
    },
    {
     "name": "stdout",
     "output_type": "stream",
     "text": [
      "Epoch 3: Train Loss: 0.1126, Train Acc: 96.43%, Val Loss: 0.0687, Val Acc: 97.90%\n"
     ]
    },
    {
     "name": "stderr",
     "output_type": "stream",
     "text": [
      "Epoch 4/10: 100%|██████████| 235/235 [00:11<00:00, 20.94it/s, Loss=0.0932, Acc=97.12%]\n"
     ]
    },
    {
     "name": "stdout",
     "output_type": "stream",
     "text": [
      "Epoch 4: Train Loss: 0.0932, Train Acc: 97.12%, Val Loss: 0.0708, Val Acc: 97.79%\n"
     ]
    },
    {
     "name": "stderr",
     "output_type": "stream",
     "text": [
      "Epoch 5/10: 100%|██████████| 235/235 [00:11<00:00, 20.91it/s, Loss=0.0879, Acc=97.29%]\n"
     ]
    },
    {
     "name": "stdout",
     "output_type": "stream",
     "text": [
      "Epoch 5: Train Loss: 0.0879, Train Acc: 97.29%, Val Loss: 0.0691, Val Acc: 97.79%\n"
     ]
    },
    {
     "name": "stderr",
     "output_type": "stream",
     "text": [
      "Epoch 6/10: 100%|██████████| 235/235 [00:11<00:00, 20.76it/s, Loss=0.0799, Acc=97.52%]\n"
     ]
    },
    {
     "name": "stdout",
     "output_type": "stream",
     "text": [
      "Epoch 6: Train Loss: 0.0799, Train Acc: 97.52%, Val Loss: 0.0628, Val Acc: 97.97%\n"
     ]
    },
    {
     "name": "stderr",
     "output_type": "stream",
     "text": [
      "Epoch 7/10: 100%|██████████| 235/235 [00:11<00:00, 20.60it/s, Loss=0.0744, Acc=97.65%]\n"
     ]
    },
    {
     "name": "stdout",
     "output_type": "stream",
     "text": [
      "Epoch 7: Train Loss: 0.0744, Train Acc: 97.65%, Val Loss: 0.0640, Val Acc: 98.03%\n"
     ]
    },
    {
     "name": "stderr",
     "output_type": "stream",
     "text": [
      "Epoch 8/10: 100%|██████████| 235/235 [00:11<00:00, 20.66it/s, Loss=0.0677, Acc=97.84%]\n"
     ]
    },
    {
     "name": "stdout",
     "output_type": "stream",
     "text": [
      "Epoch 8: Train Loss: 0.0677, Train Acc: 97.84%, Val Loss: 0.0582, Val Acc: 98.13%\n"
     ]
    },
    {
     "name": "stderr",
     "output_type": "stream",
     "text": [
      "Epoch 9/10: 100%|██████████| 235/235 [00:11<00:00, 20.48it/s, Loss=0.0638, Acc=97.97%]\n"
     ]
    },
    {
     "name": "stdout",
     "output_type": "stream",
     "text": [
      "Epoch 9: Train Loss: 0.0638, Train Acc: 97.97%, Val Loss: 0.0630, Val Acc: 98.05%\n"
     ]
    },
    {
     "name": "stderr",
     "output_type": "stream",
     "text": [
      "Epoch 10/10: 100%|██████████| 235/235 [00:11<00:00, 20.47it/s, Loss=0.0651, Acc=97.97%]\n"
     ]
    },
    {
     "name": "stdout",
     "output_type": "stream",
     "text": [
      "Epoch 10: Train Loss: 0.0651, Train Acc: 97.97%, Val Loss: 0.0603, Val Acc: 98.14%\n",
      "\n",
      "선생 모델 상세 평가:\n",
      "Overall Accuracy: 98.14%\n",
      "Class 0: 99.08%\n",
      "Class 1: 99.38%\n",
      "Class 2: 97.00%\n",
      "Class 3: 98.71%\n",
      "Class 4: 98.57%\n",
      "Class 5: 97.09%\n",
      "Class 6: 99.16%\n",
      "Class 7: 98.54%\n",
      "Class 8: 97.64%\n",
      "Class 9: 96.04%\n"
     ]
    },
    {
     "ename": "",
     "evalue": "",
     "output_type": "error",
     "traceback": [
      "\u001b[1;31mThe Kernel crashed while executing code in the current cell or a previous cell. \n",
      "\u001b[1;31mPlease review the code in the cell(s) to identify a possible cause of the failure. \n",
      "\u001b[1;31mClick <a href='https://aka.ms/vscodeJupyterKernelCrash'>here</a> for more info. \n",
      "\u001b[1;31mView Jupyter <a href='command:jupyter.viewOutput'>log</a> for further details."
     ]
    }
   ],
   "source": [
    "import torch\n",
    "from models import TeacherModel, StudentModel\n",
    "from data import MNISTDataManager\n",
    "from utils import Trainer\n",
    "\n",
    "# 디바이스 설정\n",
    "device = torch.device('cuda' if torch.cuda.is_available() else 'cpu')\n",
    "print(f\"Using device: {device}\")\n",
    "\n",
    "# 데이터 매니저 생성\n",
    "data_manager = MNISTDataManager(batch_size=256)\n",
    "train_loader = data_manager.get_train_loader()\n",
    "test_loader = data_manager.get_test_loader()\n",
    "\n",
    "# 트레이너 생성\n",
    "trainer = Trainer(device=device)\n",
    "\n",
    "# 1. 선생 모델 학습\n",
    "print(\"=\"*50)\n",
    "print(\"1. 선생 모델 학습\")\n",
    "print(\"=\"*50)\n",
    "\n",
    "teacher_model = TeacherModel()\n",
    "teacher_history = trainer.train_normal(\n",
    "    teacher_model, train_loader, test_loader, lr=0.001, epochs=10\n",
    ")\n",
    "\n",
    "# 선생 모델 평가\n",
    "print(\"\\n선생 모델 상세 평가:\")\n",
    "teacher_accuracy, _, _ = trainer.evaluate_detailed(teacher_model, test_loader)\n",
    "\n",
    "# 선생 모델 학습 히스토리 시각화\n",
    "trainer.plot_history(teacher_history, \"Teacher Model\")\n",
    "\n",
    "# 2. Soft target 생성\n",
    "print(\"\\n=\"*50)\n",
    "print(\"2. Soft target 생성\")\n",
    "print(\"=\"*50)\n",
    "\n",
    "soft_targets = data_manager.generate_soft_targets(\n",
    "    teacher_model, temperature=8, device=device\n",
    ")\n",
    "\n",
    "# 3. 학생 모델들 학습\n",
    "print(\"\\n=\"*50)\n",
    "print(\"3. 학생 모델들 학습\")\n",
    "print(\"=\"*50)\n",
    "\n",
    "# 2-1. 일반 학생 모델 학습\n",
    "print(\"\\n2-1. 일반 학생 모델 학습:\")\n",
    "student_normal = StudentModel()\n",
    "student_normal_history = trainer.train_normal(\n",
    "    student_normal, train_loader, test_loader, lr=0.001, epochs=10\n",
    ")\n",
    "\n",
    "# 2-2. KD 학생 모델 학습\n",
    "print(\"\\n2-2. KD 학생 모델 학습:\")\n",
    "student_kd = StudentModel()\n",
    "student_kd_history = trainer.train_with_kd(\n",
    "    student_kd, train_loader, test_loader, soft_targets, \n",
    "    temperature=8, alpha=0.7, lr=0.001, epochs=10\n",
    ")\n",
    "\n",
    "# 2-3. Label '3' 제거한 데이터로 KD 학생 모델 학습\n",
    "print(\"\\n2-3. Label '3' 제거한 데이터로 KD 학생 모델 학습:\")\n",
    "\n",
    "# Label '3' 제거한 데이터셋과 soft target 생성\n",
    "train_loader_no_3, _, _ = data_manager.create_dataset_without_label(exclude_label=3)\n",
    "soft_targets_no_3 = data_manager.filter_soft_targets(soft_targets, exclude_label=3)\n",
    "\n",
    "student_kd_no_3 = StudentModel()\n",
    "student_kd_no_3_history = trainer.train_with_kd(\n",
    "    student_kd_no_3, train_loader_no_3, test_loader, soft_targets_no_3,\n",
    "    temperature=8, alpha=0.7, lr=0.001, epochs=10\n",
    ")\n",
    "\n",
    "# 4. 모든 모델 평가\n",
    "print(\"\\n\" + \"=\"*50)\n",
    "print(\"4. 최종 성능 평가\")\n",
    "print(\"=\"*50)\n",
    "\n",
    "print(\"\\n선생 모델 (Teacher Model):\")\n",
    "teacher_final_accuracy, teacher_class_correct, teacher_class_total = trainer.evaluate_detailed(teacher_model, test_loader)\n",
    "\n",
    "print(\"\\n일반 학생 모델 (Student Normal):\")\n",
    "student_normal_accuracy, student_normal_class_correct, student_normal_class_total = trainer.evaluate_detailed(student_normal, test_loader)\n",
    "\n",
    "print(\"\\nKD 학생 모델 (Student KD):\")\n",
    "student_kd_accuracy, student_kd_class_correct, student_kd_class_total = trainer.evaluate_detailed(student_kd, test_loader)\n",
    "\n",
    "print(\"\\nKD 학생 모델 - Label '3' 제거 (Student KD No 3):\")\n",
    "student_kd_no_3_accuracy, student_kd_no_3_class_correct, student_kd_no_3_class_total = trainer.evaluate_detailed(student_kd_no_3, test_loader)\n",
    "\n",
    "# 5. 개별 모델 학습 히스토리 시각화\n",
    "print(\"\\n\" + \"=\"*50)\n",
    "print(\"5. 개별 모델 학습 히스토리\")\n",
    "print(\"=\"*50)\n",
    "\n",
    "trainer.plot_history(student_normal_history, \"Student Normal\")\n",
    "trainer.plot_history(student_kd_history, \"Student KD\")\n",
    "trainer.plot_history(student_kd_no_3_history, \"Student KD No 3\")\n",
    "\n",
    "# 6. 모델 비교 시각화\n",
    "print(\"\\n\" + \"=\"*50)\n",
    "print(\"6. 모델 비교\")\n",
    "print(\"=\"*50)\n",
    "\n",
    "histories = [teacher_history, student_normal_history, student_kd_history, student_kd_no_3_history]\n",
    "model_names = ['Teacher', 'Student Normal', 'Student KD', 'Student KD No 3']\n",
    "accuracies = [teacher_final_accuracy, student_normal_accuracy, student_kd_accuracy, student_kd_no_3_accuracy]\n",
    "\n",
    "trainer.compare_models(histories, model_names, accuracies)\n",
    "\n",
    "# 7. 결과 분석\n",
    "print(\"\\n\" + \"=\"*50)\n",
    "print(\"7. 결과 분석\")\n",
    "print(\"=\"*50)\n",
    "\n",
    "print(f\"선생 모델 정확도: {teacher_final_accuracy:.2f}%\")\n",
    "print(f\"일반 학생 모델 정확도: {student_normal_accuracy:.2f}%\")\n",
    "print(f\"KD 학생 모델 정확도: {student_kd_accuracy:.2f}%\")\n",
    "print(f\"KD 학생 모델 (Label '3' 제거) 정확도: {student_kd_no_3_accuracy:.2f}%\")\n",
    "\n",
    "# 성능 향상 분석\n",
    "print(\"\\n성능 향상 분석:\")\n",
    "improvement_kd = student_kd_accuracy - student_normal_accuracy\n",
    "print(f\"KD vs 일반 학생: {improvement_kd:+.2f}%\")\n",
    "\n",
    "print(f\"\\nLabel '3' 제거 시 성능 변화:\")\n",
    "change_no_3 = student_kd_no_3_accuracy - student_kd_accuracy\n",
    "print(f\"변화량: {change_no_3:+.2f}%\")\n",
    "\n",
    "# Label '3' 분류 성능 비교\n",
    "print(f\"\\nLabel '3' 분류 성능:\")\n",
    "results = [\n",
    "    (teacher_class_correct, teacher_class_total, \"선생 모델\"),\n",
    "    (student_normal_class_correct, student_normal_class_total, \"일반 학생\"),\n",
    "    (student_kd_class_correct, student_kd_class_total, \"KD 학생\"),\n",
    "    (student_kd_no_3_class_correct, student_kd_no_3_class_total, \"KD 학생(No 3)\")\n",
    "]\n",
    "\n",
    "for class_correct, class_total, name in results:\n",
    "    if class_total[3] > 0:\n",
    "        acc_3 = 100 * class_correct[3] / class_total[3]\n",
    "        print(f\"{name}: {acc_3:.2f}%\")\n",
    "    else:\n",
    "        print(f\"{name}: 학습 데이터에 class 3 없음\")\n",
    "\n",
    "print(\"\\n실험 완료!\")"
   ]
  }
 ],
 "metadata": {
  "kernelspec": {
   "display_name": "LLM_env",
   "language": "python",
   "name": "python3"
  },
  "language_info": {
   "codemirror_mode": {
    "name": "ipython",
    "version": 3
   },
   "file_extension": ".py",
   "mimetype": "text/x-python",
   "name": "python",
   "nbconvert_exporter": "python",
   "pygments_lexer": "ipython3",
   "version": "3.9.23"
  }
 },
 "nbformat": 4,
 "nbformat_minor": 5
}
